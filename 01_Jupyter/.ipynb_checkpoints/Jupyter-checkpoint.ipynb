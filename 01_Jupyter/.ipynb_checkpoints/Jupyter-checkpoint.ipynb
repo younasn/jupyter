{
 "cells": [
  {
   "cell_type": "markdown",
   "metadata": {},
   "source": [
    "#  Jupyter Notebook"
   ]
  },
  {
   "cell_type": "markdown",
   "metadata": {},
   "source": [
    "## ¿Qué es Jupyter Notebook?\n",
    "---"
   ]
  },
  {
   "cell_type": "markdown",
   "metadata": {},
   "source": [
    "**Jupyter Notebook** es una aplicación que nos permite crear **notebooks**.\n",
    "\n",
    "Un notebook es un documento que contiene código de programación y elementos como párrafos, enlaces, imágenes, y ecuaciones. Esto permite crear reportes legibles con código ejecutable. Un notebook utiliza **kernels** para poder trabajar con distintos lenguajes de programación\n"
   ]
  },
  {
   "cell_type": "markdown",
   "metadata": {},
   "source": [
    "## Instalación\n",
    "---"
   ]
  },
  {
   "cell_type": "markdown",
   "metadata": {},
   "source": [
    "Existen dos maneras de instalar Jupyter Notebook (en adelante Jupyter):"
   ]
  },
  {
   "cell_type": "markdown",
   "metadata": {},
   "source": [
    "####  Instalar utilizando Anaconda"
   ]
  },
  {
   "cell_type": "markdown",
   "metadata": {},
   "source": [
    "Anaconda es una distribución que incluye Python, Jupyter y otras herramientas útiles. Anaconda puede descargarse [aqui](https://www.anaconda.com/download/).\n",
    "\n",
    "**Nota:** Recomiendo instalar la versión de Python 3.\n",
    "\n",
    "Una vez se haya descargado Anaconda, se puede proceder a su instalación siguiendo las instrucciones de la página.\n",
    "\n",
    "**Nota:** En algún momento de la instalación aparecerán dos recuadros. Por default el primero \"Add Anaconda to PATH\" estará desactivado. Si activamos esa opción podremos utilizar anaconda desde la terminal de Windows. Recomiendo habilitar ambos cuadros.\n",
    "\n",
    "Una vez Anaconda se encuentre en el equipo, para lanzar el cuaderno basta ir a la terminal y escribir:\n",
    "\n"
   ]
  },
  {
   "cell_type": "markdown",
   "metadata": {},
   "source": [
    "`jupyter notebook`"
   ]
  },
  {
   "cell_type": "markdown",
   "metadata": {},
   "source": [
    "#### Instalar con pip (Requiere python)"
   ]
  },
  {
   "cell_type": "markdown",
   "metadata": {},
   "source": [
    "Jupyter también puede ser instalado utilizando el gestor de paquetes pip. Para hacerlo, es necesario contar con alguna versión de Python instalada previamente."
   ]
  },
  {
   "cell_type": "markdown",
   "metadata": {},
   "source": [
    "Para instalar con **Python 3** (recomendado):\n",
    "\n",
    "`python3 -m pip install --upgrade pip\n",
    "python3 -m pip install jupyter`"
   ]
  },
  {
   "cell_type": "markdown",
   "metadata": {},
   "source": [
    "Para instalar con **Python 2:**\n",
    "\n",
    "`python -m pip install --upgrade pip\n",
    "python -m pip install jupyter`"
   ]
  },
  {
   "cell_type": "markdown",
   "metadata": {},
   "source": [
    "Una vez Jupyter se haya instalado, se puede iniciar el cuader no escribiendo en la terminal:\n",
    "\n",
    "`jupyter notebook`"
   ]
  },
  {
   "cell_type": "markdown",
   "metadata": {},
   "source": [
    "### ***Ejercicio*** \n",
    "1. Instale Jupyter\n",
    "2. Inicie Jupyter"
   ]
  },
  {
   "cell_type": "markdown",
   "metadata": {},
   "source": [
    "##  Kernels\n",
    "---"
   ]
  },
  {
   "cell_type": "markdown",
   "metadata": {},
   "source": [
    "Cuando se crea un notebook se elije un **kernel.** En términos generales, un kernel es el lenguaje de programación que usará el cuaderno creado. En este caso, estamos utilizando un notebook con python\n",
    "\n"
   ]
  },
  {
   "cell_type": "markdown",
   "metadata": {},
   "source": [
    "## Dashboard \n",
    "---"
   ]
  },
  {
   "cell_type": "markdown",
   "metadata": {},
   "source": [
    "<img src=\"interfaz.png\">"
   ]
  },
  {
   "cell_type": "markdown",
   "metadata": {},
   "source": [
    "El **dashboard** es un panel de control que permite navegar por los documentos (similar al explorador de windows), crear carpetas, renombrar y elminar archivos, abrir y crear notebooks, y apagar los kernels abiertos."
   ]
  },
  {
   "cell_type": "markdown",
   "metadata": {},
   "source": [
    "### ***Ejercicio*** \n",
    "1. Haga una nueva carpeta llamada \"clase_jupyter\" y entre en ella. En esta carpeta guardaremos el resto de los archivos que hagamos."
   ]
  },
  {
   "cell_type": "markdown",
   "metadata": {},
   "source": [
    "## Notebooks\n",
    "---"
   ]
  },
  {
   "cell_type": "markdown",
   "metadata": {},
   "source": [
    "### Crear un notebook"
   ]
  },
  {
   "cell_type": "markdown",
   "metadata": {},
   "source": [
    "Para crear un nuevo notebook debemos utilizar el dashboard para navegar hasta la ubicación donde queremos crear el notebook. Una vez que estemos en dicha ubicación, hacemos click en \"New\" (lado derecho del dashboard) y en el apartado notebook seleccionamos el kernel (lenguaje) que queremos utilizar. En este caso estamos utilizando el kernel de Python 3."
   ]
  },
  {
   "cell_type": "markdown",
   "metadata": {},
   "source": [
    "<img src=\"crear_notebook.png\">"
   ]
  },
  {
   "cell_type": "markdown",
   "metadata": {},
   "source": [
    "### Interfaz"
   ]
  },
  {
   "cell_type": "markdown",
   "metadata": {},
   "source": [
    "Al crear nuestro primer notebook veremos lo siguiente:"
   ]
  },
  {
   "cell_type": "markdown",
   "metadata": {},
   "source": [
    "<img src=\"interfaz_notebook.png\">"
   ]
  },
  {
   "cell_type": "markdown",
   "metadata": {},
   "source": [
    "- **Nombre:** Aquí se muestra el nombre del notebook. Es posible modificar es nombre haciendo click en él.\n",
    "- **Barra de menús:** Brinda diferentes opciones para interactuar con nuestro notebook.\n",
    "- **Barra de herramientas:** Brinda un acceso rápido a algunas acciones comunes de los notebooks.\n",
    "- **Celda:** Las celdas son el espacio de trabajo dentro de un notebook. Existen distintos tipos de celda y todo el input del usuario es escrito en ellas. En esencia, un notebook es una secuencia de celdas."
   ]
  },
  {
   "cell_type": "markdown",
   "metadata": {},
   "source": [
    "### ***Ejercicio*** \n",
    "1. Haga un notebook de python y cambie el nombre a \"practica\""
   ]
  },
  {
   "cell_type": "markdown",
   "metadata": {},
   "source": [
    "### Modos"
   ]
  },
  {
   "cell_type": "markdown",
   "metadata": {},
   "source": [
    "Existen dos modos de trabajar con una celda en Jupyter:\n",
    "- **Modo de comandos:** Este modo se utiliza para interactuar con el notebook, por ejemplo añadiendo nuevas celdas o modificando su estructura, y con la celda, por ejemplo para su contenido. Se puede entrar a este modo haciendo click en la línea de una celda, pero fuera del espacio de escritura. Una línea azul a la izquierda de la celda indica que el modo de comandos está activo."
   ]
  },
  {
   "cell_type": "markdown",
   "metadata": {},
   "source": [
    "<img src=\"celda_comandos.png\">"
   ]
  },
  {
   "cell_type": "markdown",
   "metadata": {},
   "source": [
    "- **Modo de edición:** Este modo se utiliza para escribir dentro de las celdas de la misma manera en que hacemos con un editor de texto. Se puede entrar a este modo haciendo click dentro del espacio de escritura de una celda. Una línea verde a la izquierda de la celda indica que el modo de edición está activo."
   ]
  },
  {
   "cell_type": "markdown",
   "metadata": {},
   "source": [
    "<img src=\"celda_edicion.png\">"
   ]
  },
  {
   "cell_type": "markdown",
   "metadata": {},
   "source": [
    "## Celdas\n",
    "---"
   ]
  },
  {
   "cell_type": "markdown",
   "metadata": {},
   "source": [
    "Desde la barra de menús, podemos insertar nuevas celdas haciendo click en *Insert < Insert Cell Above* (o *Insert < Insert Cell Below*). De esta manera se creará una nueva celda arriba (o abajo) de la celda activa."
   ]
  },
  {
   "cell_type": "markdown",
   "metadata": {},
   "source": [
    "###  Tipos de celdas"
   ]
  },
  {
   "cell_type": "markdown",
   "metadata": {},
   "source": [
    "En Jupyter, existen distintos tipos de celdas. A nosotros nos interesan dos tipos:\n",
    "\n",
    " - **Celda de código**: Este tipo de se usan para escribir, editar y ejecutar código, según el kernel del notebook.\n"
   ]
  },
  {
   "cell_type": "markdown",
   "metadata": {},
   "source": [
    " - **Celda de markdown**: Este tipo de celdas se usan para escribir texto con lenguaje **Markdown**. Markdown sirve para escribir texto con formato de manera sencilla y comprensible."
   ]
  },
  {
   "cell_type": "markdown",
   "metadata": {},
   "source": [
    "Podemos cambiar el tipo de la celda activa haciendo click en *\"Cell < Cell Type\"* y seleccionando el tipo deseado."
   ]
  },
  {
   "cell_type": "markdown",
   "metadata": {},
   "source": [
    "### Ejecución de celdas"
   ]
  },
  {
   "cell_type": "markdown",
   "metadata": {},
   "source": [
    "No basta con escribir en una celda para que Jupyter procese el texto que escribimos (**input**) y nos muestre un resultado o **Output**. Es necesario indicarle a Jupyter que queremos que **ejecute** una celda. Se puede hacer esto haciendo desde la barra de menús haciendo click en  \"Cell < Run Cell\" para ejecutar las celdas seleccionadas, o bien desde la barra de herramientas haciendo click en el botón:\n",
    "\n",
    "![run.PNG](run.PNG)"
   ]
  },
  {
   "cell_type": "markdown",
   "metadata": {},
   "source": [
    "### ***Ejercicio***:\n",
    "1. Haga dos nuevas celdas, una debe ser de tipo markdown y la otra de tipo código.\n",
    "2. Copie y pegue el siguiente texto (desde print) en cada celda:\n",
    "\n",
    "        print(\"Cópiame y pégame en las nuevas celdas\")\n",
    "\n",
    "3. Ejecute ambas celdas y observe la diferencia."
   ]
  },
  {
   "cell_type": "markdown",
   "metadata": {},
   "source": [
    "## Atajos en Jupyter\n",
    "---"
   ]
  },
  {
   "cell_type": "markdown",
   "metadata": {},
   "source": [
    "Hasta ahora hemos utilizado el mouse y las barras de menús y herramientas para interactuar con nuestro notebook. Existe una manera más rápida de trabajar en Jupyter: con atajos de teclas o **comandos**."
   ]
  },
  {
   "cell_type": "markdown",
   "metadata": {},
   "source": [
    "Para utilizar algún comando, necesitamos utilizar alguna combinación de teclas en Jupyter. Un comando muy útil es mostar la lista de comandos disponible. Esto se hace presionando la tecla `H` en el modo de comando."
   ]
  },
  {
   "cell_type": "markdown",
   "metadata": {},
   "source": [
    "### ***Ejercicio***:\n",
    "1. Vea la lista de comandos disponibles"
   ]
  },
  {
   "cell_type": "markdown",
   "metadata": {},
   "source": [
    "Es importante notar que algunos atajos se ejecutan a partir de la celda seleccionada."
   ]
  },
  {
   "cell_type": "markdown",
   "metadata": {},
   "source": [
    "### ***Ejercicio***:\n",
    "1. Seleccione una celda.\n",
    "2. Pase a modo de comando.\n",
    "3. Presione la tecla `A` y observe lo que pasa.\n",
    "4. Seleccione la misma celda que seleccionó en 1. y pase a modo de comando.\n",
    "5. Presione la tecla `B` y observe lo que pasa."
   ]
  },
  {
   "cell_type": "markdown",
   "metadata": {},
   "source": [
    "Algunos atajos comunes son:\n",
    "\n",
    "- `A` Inserta una celda arriba\n",
    "- `B` Inserta una celda abajo\n",
    "- `D,D` Elimina las celdas \n",
    "- `Up` Selecciona la celda de arriba\n",
    "- `Down` Selecciona la celda de abajo\n",
    "- `Enter` Entra a modo de edición"
   ]
  },
  {
   "cell_type": "markdown",
   "metadata": {},
   "source": [
    "### ***Ejercicio***:\n",
    "Sin usar comandos haga lo siguiente:\n",
    "1. Vaya a la última celda, cámbiela a formato markdown, escriba \"Esta es mi celda 0\".\n",
    "2. Inserte 5 celdas arriba, cámbielas a formato markdown y escriba en cada una \"Esta es mi celda #\" donde # debe aumentar según la lejanía de la celda 0. Por ejemplo, la celda de hasta arriba tendrá el número 5.\n",
    "3. Inserte 5 celdas abajo, cámbielas a formato markdown y escriba en cada una \"Esta es mi celda -#\" donde # debe aumentar según la lejanía de la celda 0. Por ejemplo, la celda de hasta abajo tendrá el número -5.\n",
    "\n",
    "Repita los 3 pasos pero ahora sólo utilizando comandos.\n",
    "\n",
    "¿Qué es más sencillo?"
   ]
  },
  {
   "cell_type": "markdown",
   "metadata": {},
   "source": [
    "También existen comandos que pueden usarse desde el modo de edición."
   ]
  },
  {
   "cell_type": "markdown",
   "metadata": {},
   "source": [
    "### ***Ejercicio***:\n",
    "\n",
    "1. Revise los comandos disponibles para el modo de edición en el menú de comandos\n",
    "\n",
    "¿Le parecen familiares?"
   ]
  },
  {
   "cell_type": "markdown",
   "metadata": {},
   "source": [
    "# Markdown\n",
    "---"
   ]
  },
  {
   "cell_type": "markdown",
   "metadata": {},
   "source": [
    "Markdown es un lenguaje para dar formato al texto de manera sencilla. Si escribimos texto sencillo lo veremos tal y como lo escribimos."
   ]
  },
  {
   "cell_type": "markdown",
   "metadata": {},
   "source": [
    "### Texto sencillo"
   ]
  },
  {
   "cell_type": "markdown",
   "metadata": {},
   "source": [
    "Esto es un texto sencillo"
   ]
  },
  {
   "cell_type": "markdown",
   "metadata": {},
   "source": [
    "###  Salto de línea"
   ]
  },
  {
   "cell_type": "markdown",
   "metadata": {},
   "source": [
    "Para dar un salto de línea, necesitamos dar dos espacios consecutivos: \n",
    "\n",
    "Linea 1\n",
    "Linea 2\n",
    "\n",
    "Linea 3  \n",
    "Linea 4"
   ]
  },
  {
   "cell_type": "markdown",
   "metadata": {},
   "source": [
    "### Cursivas y negritas"
   ]
  },
  {
   "cell_type": "markdown",
   "metadata": {},
   "source": [
    "También se puede cambiar un texto a **negritas** o a *cursivas*:\n",
    "\n",
    "-**negritas:** escribir  \\*\\*texto\\*\\*\n",
    "\n",
    "-*cursivas:* escribir \\*texto\\*"
   ]
  },
  {
   "cell_type": "markdown",
   "metadata": {},
   "source": [
    "###  Encabezados"
   ]
  },
  {
   "cell_type": "markdown",
   "metadata": {},
   "source": [
    "Si agregamos `#`  al inicio de la celda, estamos dando formato de encabezado:"
   ]
  },
  {
   "cell_type": "markdown",
   "metadata": {},
   "source": [
    "# Encabezado"
   ]
  },
  {
   "cell_type": "markdown",
   "metadata": {},
   "source": [
    "Es posible jerarquizar encabezados añadiendo `#` adicionales."
   ]
  },
  {
   "cell_type": "markdown",
   "metadata": {},
   "source": [
    "### ***Ejercicio***:\n",
    "1. En una celda markdown, escriba lo siguiente:\n",
    "\n",
    "`#` Encabezado h1 \n",
    "\n",
    "`##` Encabezado h2\n",
    "\n",
    "`###` Encabezado h3\n",
    "\n",
    "`####` Encabezado h4\n",
    "\n",
    "`#####` Encabezado h5\n",
    "\n",
    "`######` Encabezado h6"
   ]
  },
  {
   "cell_type": "markdown",
   "metadata": {},
   "source": [
    "### Listas"
   ]
  },
  {
   "cell_type": "markdown",
   "metadata": {},
   "source": [
    "Es posible hacer listas utilizando guines cortos `-` y un espacio al inicio de cada línea que sea parte de la lista:\n",
    "\n",
    "- objeto 1\n",
    "- objeto 2\n",
    "- objeto 3"
   ]
  },
  {
   "cell_type": "markdown",
   "metadata": {},
   "source": [
    "Es posible hacer listas con distintos niveles jerárquicos. Para esto se utilizan tabuladores.\n",
    "- nivel 1\n",
    "    - nivel 2\n",
    "        \n",
    "    "
   ]
  },
  {
   "cell_type": "markdown",
   "metadata": {},
   "source": [
    "### ***Ejercicio***:\n",
    "1. En una celda markdown, replique la siguiente estructura:\n",
    "\n",
    "\n",
    "- nivel 1\n",
    "    - nivel 2\n",
    "- nivel 1 \n",
    "    - nivel 2\n",
    "        - nivel 3\n",
    "    - nivel 2\n",
    "    - nivel 2\n",
    "         - nivel 3\n",
    "             - nivel 4"
   ]
  },
  {
   "cell_type": "markdown",
   "metadata": {},
   "source": [
    "### Listas numeradas"
   ]
  },
  {
   "cell_type": "markdown",
   "metadata": {},
   "source": [
    "También es posible crear listas numeradas. Esto funciona de la misma manera que listas normales, pero en lugar de un guion `-` se utiliza algún número seguido de un punto. Por ejemplo `1.`:"
   ]
  },
  {
   "cell_type": "markdown",
   "metadata": {},
   "source": [
    "1. objeto 1\n",
    "2. objeto 2\n",
    "3. objeto 3"
   ]
  },
  {
   "cell_type": "markdown",
   "metadata": {},
   "source": [
    "### ***Ejercicio***:\n",
    "1. En una celda markdown, replique la estructrua del ejercicio anterior, pero ahora con listas numeradas.\n",
    "\n"
   ]
  },
  {
   "cell_type": "markdown",
   "metadata": {},
   "source": [
    "###  Enlaces"
   ]
  },
  {
   "cell_type": "markdown",
   "metadata": {},
   "source": [
    "También es posible incluir enlaces. Para hacerlo se utiliza la sintaxis:  `[Texto](URL)`"
   ]
  },
  {
   "cell_type": "markdown",
   "metadata": {},
   "source": [
    "### ***Ejercicio***:\n",
    "1. En una celda markdown, haga un enlace a google y pruébelo\n",
    "\n",
    "      \n",
    "    \n",
    "**Nota:** no olvide incluir \"https://\" al inicio del URL"
   ]
  },
  {
   "cell_type": "markdown",
   "metadata": {},
   "source": [
    "###  Citas"
   ]
  },
  {
   "cell_type": "markdown",
   "metadata": {},
   "source": [
    "Es posible crear un bloque de citas añadiendo `>` al inicio de una línea. Por ejemplo `> cita` genera:"
   ]
  },
  {
   "cell_type": "markdown",
   "metadata": {},
   "source": [
    "> cita"
   ]
  },
  {
   "cell_type": "markdown",
   "metadata": {},
   "source": [
    "###  Líneas"
   ]
  },
  {
   "cell_type": "markdown",
   "metadata": {},
   "source": [
    "Podemos crear líneas si escribimos tres guiones contiguos `---` en una fila:"
   ]
  },
  {
   "cell_type": "markdown",
   "metadata": {},
   "source": [
    "---"
   ]
  },
  {
   "cell_type": "markdown",
   "metadata": {},
   "source": [
    "### Diágonal invertida"
   ]
  },
  {
   "cell_type": "markdown",
   "metadata": {},
   "source": [
    "### ***Ejercicio***:\n",
    "1. En una celda markdown, intente escribir el siguiente texto:\n",
    "\n",
    "\\*   asterisco\n",
    "\n",
    "\\#   numeral\n",
    "\n",
    "¿Qué observa?"
   ]
  },
  {
   "cell_type": "markdown",
   "metadata": {},
   "source": [
    "Algunos caracteres tienen funciones especiales en markdown (por ejemplo `*`). Por lo tanto, si queremos escribir estos símbolos es necesario escribirlos con una diagonal invertida `\\` a su izquierda."
   ]
  },
  {
   "cell_type": "markdown",
   "metadata": {},
   "source": [
    "### ***Ejercicio***:\n",
    "1. En una celda markdown, intente nuevamente escribir el siguiente texto:\n",
    "\n",
    "\\*   asterisco\n",
    "\n",
    "\\#   numeral"
   ]
  },
  {
   "cell_type": "markdown",
   "metadata": {},
   "source": [
    "## Tablas\n",
    "---"
   ]
  },
  {
   "cell_type": "markdown",
   "metadata": {},
   "source": [
    "Es posible crear tablas en Jupyter. Para separar columnas se utilizan `|`"
   ]
  },
  {
   "cell_type": "markdown",
   "metadata": {},
   "source": [
    "### ***Ejercicio***:\n",
    "1. En una celda markdown, Copie y pegue el siguiente código:\n"
   ]
  },
  {
   "cell_type": "raw",
   "metadata": {},
   "source": [
    "columna 1 | columna 2 | columna 3\n",
    "---|---|---\n",
    "fila 1 | fila A | 1\n",
    "B | 2 | fila 2"
   ]
  },
  {
   "cell_type": "markdown",
   "metadata": {},
   "source": [
    "**Nota:** Es necesario añadir tres guiones `-` separando los encabezados y el resto de las columnas"
   ]
  },
  {
   "cell_type": "markdown",
   "metadata": {},
   "source": [
    "columna 1 | columna 2 | columna 3\n",
    "---|---|---\n",
    "fila 1 | fila A | 1\n",
    "B | 2 | fila 2"
   ]
  },
  {
   "cell_type": "markdown",
   "metadata": {},
   "source": [
    "#  Otras cosas útiles"
   ]
  },
  {
   "cell_type": "markdown",
   "metadata": {},
   "source": [
    "## HTML\n",
    "---"
   ]
  },
  {
   "cell_type": "markdown",
   "metadata": {},
   "source": [
    "Jupyter también admite formato HTML. Por ejemplo, el siguiente código"
   ]
  },
  {
   "cell_type": "raw",
   "metadata": {},
   "source": [
    "<h1>Enacbezado 1</h1>\n",
    "<h2>Encabezado 2</h2>\n",
    "<h3>Encabezado 3</h3>"
   ]
  },
  {
   "cell_type": "markdown",
   "metadata": {},
   "source": [
    "genera:\n",
    "<h1>Enacbezado 1</h1>\n",
    "<h2>Encabezado 2</h2>\n",
    "<h3>Encabezado 3</h3>"
   ]
  },
  {
   "cell_type": "markdown",
   "metadata": {},
   "source": [
    "De igual modo, `<b>negritas</b>` genera: <b>negritas</b>"
   ]
  },
  {
   "cell_type": "markdown",
   "metadata": {},
   "source": [
    "## Latex\n",
    "---"
   ]
  },
  {
   "cell_type": "markdown",
   "metadata": {},
   "source": [
    "Es posible utilizar sintáxis de $\\LaTeX$ en Jupyter. Para activar esta función, basta con incluir `$` al inicio y al final del texto escrito en formato Latex. Esta función nos permite hacer cosas como lo siguiente:\n"
   ]
  },
  {
   "cell_type": "markdown",
   "metadata": {},
   "source": [
    "$(A+B)^2$"
   ]
  },
  {
   "cell_type": "markdown",
   "metadata": {},
   "source": [
    "# Código\n",
    "---"
   ]
  },
  {
   "cell_type": "markdown",
   "metadata": {},
   "source": [
    "En jupyter, no es necesario a que finalice toda la ejecución de un bloque de código para notar los resultados. Conforme la ejecución va progresando es posible mirar en paralelo el progreso."
   ]
  },
  {
   "cell_type": "markdown",
   "metadata": {},
   "source": [
    "### ***Ejercicio***:\n",
    "1. En una celda de código, copie y pegue el siguiente código. Observe qué ocurre durante la ejecución.\n",
    "\n",
    "```\n",
    "import time \n",
    "for i in range(10):\n",
    "    print(\"Han pasado \" + str(i) + \" segundos\")\n",
    "    time.sleep(0.5)\n",
    "```\n",
    "\n",
    "\n",
    "\n",
    "**Nota:** El objetivo por ahora es mostrar cómo realiza jupyter la ejecución del código. No se preocupe si no entiende las instrucciones de python\n",
    "\n"
   ]
  },
  {
   "cell_type": "markdown",
   "metadata": {},
   "source": [
    "Jupyter permite colapsar outputs grandes para ahorrar el espacio. Un click a la izquierda del output en una celda de código basta para hacer esto."
   ]
  },
  {
   "cell_type": "markdown",
   "metadata": {},
   "source": [
    "### ***Ejercicio***:\n",
    "1. En una celda de código, copie y pegue el siguiente código. Colapse el output del código y muéstrelo nuevamente.\n",
    "\n",
    "```\n",
    "for i in range (100):\n",
    "    print(i)\n",
    "```\n",
    "\n",
    "\n",
    "\n",
    "**Nota:** El objetivo por ahora es mostrar cómo realiza jupyter la ejecución del código. No se preocupe si no entiende las instrucciones de python"
   ]
  },
  {
   "cell_type": "markdown",
   "metadata": {},
   "source": [
    "# Repaso\n",
    "---"
   ]
  },
  {
   "cell_type": "markdown",
   "metadata": {},
   "source": [
    "1. Abra [esta página de wikipedia](https://es.wikipedia.org/wiki/Ayuda:Interfaz_de_Wikipedia).\n",
    "2. Cree un nuevo cuaderno con el título \"practica_nombre\".\n",
    "3. Intente replicar el texto del artículo utilizando Jupyter lo mejor que pueda. Empiece en **\"Ayuda: Interfaz\"** hasta **Categorías: Ayuda:Cómo | Ayuda**.\n",
    "\n",
    "**Nota:** No se preocupe por el formato específico de wikipedia (tipografía, las columnas a los costados, etc.). El objetivo es practicar. "
   ]
  },
  {
   "cell_type": "markdown",
   "metadata": {},
   "source": [
    "#  Tarea\n",
    "---"
   ]
  },
  {
   "cell_type": "markdown",
   "metadata": {},
   "source": [
    "Para la elaboración de reportes del Monitor, se realizan diversos análisis (gráficas, tablas) que se incluyen en el documento. Cada uno debe identificar el análsis más sencillo a su cargo y hacer un notebook indicando todos los pasos necesarios para elaborar dicho análisis.\n",
    "\n",
    "Cualquier persona debe poder realizar el proceso al leer su notebook. Una buena analogía es crear una receta.\n",
    "\n",
    "El formato es libre, utilicen lo que aprendieron para hacer una receta con la mayor claridad posible."
   ]
  }
 ],
 "metadata": {
  "kernelspec": {
   "display_name": "Python 3",
   "language": "python",
   "name": "python3"
  },
  "language_info": {
   "codemirror_mode": {
    "name": "ipython",
    "version": 3
   },
   "file_extension": ".py",
   "mimetype": "text/x-python",
   "name": "python",
   "nbconvert_exporter": "python",
   "pygments_lexer": "ipython3",
   "version": "3.6.3"
  }
 },
 "nbformat": 4,
 "nbformat_minor": 2
}
